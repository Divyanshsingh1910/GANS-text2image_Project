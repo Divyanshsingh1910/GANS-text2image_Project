{
  "nbformat": 4,
  "nbformat_minor": 0,
  "metadata": {
    "colab": {
      "provenance": []
    },
    "kernelspec": {
      "name": "python3",
      "display_name": "Python 3"
    },
    "language_info": {
      "name": "python"
    }
  },
  "cells": [
    {
      "cell_type": "markdown",
      "source": [
        "Instructions for the assignment\n",
        "\n",
        "\n",
        "*   Fill the codeblocks according to the comments given\n",
        "*   Hints are given wherever required\n",
        "*   Please note that copying will not be tolerated, and appropriate action will be taken if we suspect any misconduct.\n",
        "*   You're welcome to utilize any online resources in case you feel stuck anywhere :-)\n",
        "\n",
        "\n",
        "\n",
        "\n",
        "\n",
        "\n",
        "\n"
      ],
      "metadata": {
        "id": "kIAcUXNYVeGR"
      }
    },
    {
      "cell_type": "markdown",
      "source": [
        "# Section A *(2 Marks each)*"
      ],
      "metadata": {
        "id": "UhXvUdK6Stt_"
      }
    },
    {
      "cell_type": "markdown",
      "source": [
        "## NumPy (Numerical Python)\n",
        "**bold text**\n",
        "### Multidimensional array object\n",
        "- Array is a grid of homogeneous elements which can be indexed in various ways \n",
        "- Different from Python list which can store different data types\n",
        "- NumPy stores multidimensional arrays as an instance of **ndarray** \n",
        "\n"
      ],
      "metadata": {
        "id": "oc77CrhjAGlR"
      }
    },
    {
      "cell_type": "code",
      "source": [
        "import numpy as np"
      ],
      "metadata": {
        "id": "WGtRigfyBpgb"
      },
      "execution_count": null,
      "outputs": []
    },
    {
      "cell_type": "code",
      "execution_count": null,
      "metadata": {
        "id": "UR9ftRnU8_lu",
        "colab": {
          "base_uri": "https://localhost:8080/"
        },
        "outputId": "2aa68309-8f8b-4db7-e164-0fa821beedd1"
      },
      "outputs": [
        {
          "output_type": "stream",
          "name": "stdout",
          "text": [
            "list[1, 2, 3, 4, 5]\n",
            "list[[1, 2, 3], [4, 5, 6], [7, 8, 9]]\n"
          ]
        }
      ],
      "source": [
        "# Python list to initialize a one dimensional NumPy array of numbers 1 to 5 and then print it \n",
        "a = list[1,2,3,4,5]\n",
        "print(a)\n",
        "\n",
        "\n",
        "# Python list to initialize a two dimensional NumPy array of shape [3,3] and then print it \n",
        "b = list[[1,2,3],[4,5,6],[7,8,9]]\n",
        "print(b)"
      ]
    },
    {
      "cell_type": "code",
      "source": [
        "# Write a NumPy function to create an array with random values of shape [3,4]\n",
        "import numpy as np\n",
        "from numpy import random\n",
        "a= random.randint(100, size=(3,4))\n",
        "print(a, \"\\n\")\n",
        "\n",
        "# Write a NumPy function to create an array with all elements initialized as zero of shape [3,4]\n",
        "b=np.zeros((3,4))\n",
        "print(b,\"\\n\")\n",
        "\n",
        "# Write a NumPy function to create an array with all elements initialized as ones of shape [3,4]\n",
        "c = np.ones((3,4))\n",
        "print(c)\n"
      ],
      "metadata": {
        "id": "WZf-M7KnBkhu",
        "colab": {
          "base_uri": "https://localhost:8080/"
        },
        "outputId": "2dc6f19f-b5de-4f8d-873d-67f5e456530d"
      },
      "execution_count": null,
      "outputs": [
        {
          "output_type": "stream",
          "name": "stdout",
          "text": [
            "[[80 44 67 18]\n",
            " [11 23 77 31]\n",
            " [23 92  1 44]] \n",
            "\n",
            "[[0. 0. 0. 0.]\n",
            " [0. 0. 0. 0.]\n",
            " [0. 0. 0. 0.]] \n",
            "\n",
            "[[1. 1. 1. 1.]\n",
            " [1. 1. 1. 1.]\n",
            " [1. 1. 1. 1.]]\n"
          ]
        }
      ]
    },
    {
      "cell_type": "code",
      "source": [
        "# Write a NumPy function to create an array containing a range of evenly spaced intervals\n",
        "a = np.arange(1,100,2)\n",
        "print(a)\n",
        "# Hint : Use np.arange or np.linspace"
      ],
      "metadata": {
        "id": "Uagv5WtWBknb",
        "colab": {
          "base_uri": "https://localhost:8080/"
        },
        "outputId": "a2b4281c-ddb2-4720-ccb3-73f7c76ead0b"
      },
      "execution_count": null,
      "outputs": [
        {
          "output_type": "stream",
          "name": "stdout",
          "text": [
            "[ 1  3  5  7  9 11 13 15 17 19 21 23 25 27 29 31 33 35 37 39 41 43 45 47\n",
            " 49 51 53 55 57 59 61 63 65 67 69 71 73 75 77 79 81 83 85 87 89 91 93 95\n",
            " 97 99]\n"
          ]
        }
      ]
    },
    {
      "cell_type": "markdown",
      "source": [
        "### Basic array operations\n",
        "- algebraic operations \n",
        "- logical operations"
      ],
      "metadata": {
        "id": "dFeKiGA5CNXx"
      }
    },
    {
      "cell_type": "code",
      "source": [],
      "metadata": {
        "id": "qa82ONYT8cBn"
      },
      "execution_count": null,
      "outputs": []
    },
    {
      "cell_type": "code",
      "source": [
        "a = np.array([[-4,6,8], [9, 3, 1], [1, 8, 5]])\n",
        "b = np.array([[11,16,18], [90, 37, 81], [61, 48, 75]])"
      ],
      "metadata": {
        "id": "mZbgCNnRDVbV"
      },
      "execution_count": null,
      "outputs": []
    },
    {
      "cell_type": "code",
      "source": [
        "# Write a NumPy function to add, subtract, multiply and divide arrays 'a' and 'b'\n",
        "a = np.array([[-4,6,8], [9, 3, 1], [1, 8, 5]])\n",
        "b = np.array([[11,16,18], [90, 37, 81], [61, 48, 75]])\n",
        "import numpy as np\n",
        "\n",
        "\n",
        "print(np.add(a,b),\"\\n\")\n",
        "print(np.subtract(a,b),\"\\n\")\n",
        "print(np.multiply(a,b), \"\\n\")\n",
        "print(np.divide(a,b),\"\\n\")\n"
      ],
      "metadata": {
        "id": "QajfAkNHCMqe",
        "colab": {
          "base_uri": "https://localhost:8080/"
        },
        "outputId": "004efec8-0123-4699-a7a6-542fe4e72d9b"
      },
      "execution_count": null,
      "outputs": [
        {
          "output_type": "stream",
          "name": "stdout",
          "text": [
            "[[ 7 22 26]\n",
            " [99 40 82]\n",
            " [62 56 80]] \n",
            "\n",
            "[[-15 -10 -10]\n",
            " [-81 -34 -80]\n",
            " [-60 -40 -70]] \n",
            "\n",
            "[[-44  96 144]\n",
            " [810 111  81]\n",
            " [ 61 384 375]] \n",
            "\n",
            "[[-0.36363636  0.375       0.44444444]\n",
            " [ 0.1         0.08108108  0.01234568]\n",
            " [ 0.01639344  0.16666667  0.06666667]] \n",
            "\n"
          ]
        }
      ]
    },
    {
      "cell_type": "code",
      "source": [
        "# Write a NumPy function to get the sum of the array 'a' along axis=0 \n",
        "a = np.array([[-4,6,8], [9, 3, 1], [1, 8, 5]])\n",
        "b = np.sum(a,axis =0)\n",
        "print(b,\"\\n\")\n",
        "\n",
        "# Write a NumPy function to get the sum of the array 'a' along axis=1 \n",
        "c= np.sum(a,axis=1)\n",
        "print(c)\n"
      ],
      "metadata": {
        "id": "hfBR7r80C_qh",
        "colab": {
          "base_uri": "https://localhost:8080/"
        },
        "outputId": "6039ef0b-c7bd-466c-ee32-aabbad62b8ad"
      },
      "execution_count": null,
      "outputs": [
        {
          "output_type": "stream",
          "name": "stdout",
          "text": [
            "[ 6 17 14] \n",
            "\n",
            "[10 13 14]\n"
          ]
        }
      ]
    },
    {
      "cell_type": "code",
      "source": [
        "# Write a NumPy function to reverse the array 'a' \n",
        "a = np.array([[-4,6,8], [9, 3, 1], [1, 8, 5]])\n",
        "print(np.flip(a),\"\\n\")\n",
        "\n",
        "\n",
        "\n",
        "\n",
        "\n",
        "# Write a NumPy function to reverse the array 'a' along axis=0\n",
        "print(np.flip(a,0),\"\\n\")\n",
        "\n",
        "# Write a NumPy function to reverse the array 'a' along axis=1\n",
        "print(np.flip(a,1),\"\\n\")\n"
      ],
      "metadata": {
        "id": "rBTxfTuFDSiA",
        "colab": {
          "base_uri": "https://localhost:8080/"
        },
        "outputId": "02a907a6-70d4-443c-f0bc-c1c9c096639e"
      },
      "execution_count": null,
      "outputs": [
        {
          "output_type": "stream",
          "name": "stdout",
          "text": [
            "[[ 5  8  1]\n",
            " [ 1  3  9]\n",
            " [ 8  6 -4]] \n",
            "\n",
            "[[ 1  8  5]\n",
            " [ 9  3  1]\n",
            " [-4  6  8]] \n",
            "\n",
            "[[ 8  6 -4]\n",
            " [ 1  3  9]\n",
            " [ 5  8  1]] \n",
            "\n"
          ]
        }
      ]
    },
    {
      "cell_type": "markdown",
      "source": [
        "### Sorting and concatenation\n",
        "- sort arrays\n",
        "- join multiple arrays\n"
      ],
      "metadata": {
        "id": "WnCvXc3jCdWH"
      }
    },
    {
      "cell_type": "code",
      "source": [
        "a = np.array([[-4,6,8], [9, 3, 1], [1, 8, 5]])\n",
        "b = np.array([[11,16,18], [90, 37, 81], [61, 48, 75]])"
      ],
      "metadata": {
        "id": "Qsg-EPq7EbPx"
      },
      "execution_count": null,
      "outputs": []
    },
    {
      "cell_type": "code",
      "source": [
        "# Write a NumPy function to sort the array 'a' \n",
        "print(np.sort(a,axis = None),\"\\n\")\n",
        "\n",
        "# Write a NumPy function to sort the array 'a' along axis=0\n",
        "print(np.sort(a,0),\"\\n\")\n",
        "\n",
        "# Write a NumPy function to sort the array 'a' along axis=1\n",
        "print(np.sort(a,1),\"\\n\")\n",
        "\n",
        "# Write a NumPy function to sort the array 'a' in descending order along axis=0\n",
        "\n",
        "\n",
        "\n"
      ],
      "metadata": {
        "id": "_7VfP1anCc0O",
        "colab": {
          "base_uri": "https://localhost:8080/",
          "height": 426
        },
        "outputId": "f0dd30bb-a9d5-4da3-ce28-9eb1bb170c42"
      },
      "execution_count": null,
      "outputs": [
        {
          "output_type": "stream",
          "name": "stdout",
          "text": [
            "[-4  1  1  3  5  6  8  8  9] \n",
            "\n",
            "[[-4  3  1]\n",
            " [ 1  6  5]\n",
            " [ 9  8  8]] \n",
            "\n",
            "[[-4  6  8]\n",
            " [ 1  3  9]\n",
            " [ 1  5  8]] \n",
            "\n"
          ]
        },
        {
          "output_type": "error",
          "ename": "TypeError",
          "evalue": "ignored",
          "traceback": [
            "\u001b[0;31m---------------------------------------------------------------------------\u001b[0m",
            "\u001b[0;31mTypeError\u001b[0m                                 Traceback (most recent call last)",
            "\u001b[0;32m<ipython-input-45-39c85311f9c0>\u001b[0m in \u001b[0;36m<cell line: 11>\u001b[0;34m()\u001b[0m\n\u001b[1;32m      9\u001b[0m \u001b[0;34m\u001b[0m\u001b[0m\n\u001b[1;32m     10\u001b[0m \u001b[0;31m# Write a NumPy function to sort the array 'a' in descending order along axis=0\u001b[0m\u001b[0;34m\u001b[0m\u001b[0;34m\u001b[0m\u001b[0m\n\u001b[0;32m---> 11\u001b[0;31m \u001b[0mprint\u001b[0m\u001b[0;34m(\u001b[0m\u001b[0mnp\u001b[0m\u001b[0;34m.\u001b[0m\u001b[0msort\u001b[0m\u001b[0;34m(\u001b[0m\u001b[0ma\u001b[0m\u001b[0;34m,\u001b[0m\u001b[0maxis\u001b[0m \u001b[0;34m=\u001b[0m \u001b[0;36m0\u001b[0m\u001b[0;34m,\u001b[0m\u001b[0mreverse\u001b[0m \u001b[0;34m=\u001b[0m \u001b[0;32mTrue\u001b[0m \u001b[0;34m)\u001b[0m\u001b[0;34m)\u001b[0m\u001b[0;34m\u001b[0m\u001b[0;34m\u001b[0m\u001b[0m\n\u001b[0m\u001b[1;32m     12\u001b[0m \u001b[0;34m\u001b[0m\u001b[0m\n",
            "\u001b[0;32m/usr/local/lib/python3.10/dist-packages/numpy/core/overrides.py\u001b[0m in \u001b[0;36msort\u001b[0;34m(*args, **kwargs)\u001b[0m\n",
            "\u001b[0;31mTypeError\u001b[0m: _sort_dispatcher() got an unexpected keyword argument 'reverse'"
          ]
        }
      ]
    },
    {
      "cell_type": "code",
      "source": [
        "# Write a NumPy function to argsort the array along axis=0\n",
        "print(np.argsort(a, axis =0),\"\\n\")\n",
        "\n",
        "# Write a NumPy function to argsort the array along axis=1\n"
      ],
      "metadata": {
        "id": "6BqbtdLYEWng",
        "colab": {
          "base_uri": "https://localhost:8080/"
        },
        "outputId": "52528337-2eea-496d-d452-f2a526d2366c"
      },
      "execution_count": null,
      "outputs": [
        {
          "output_type": "stream",
          "name": "stdout",
          "text": [
            "[[0 1 1]\n",
            " [2 0 2]\n",
            " [1 2 0]]\n"
          ]
        }
      ]
    },
    {
      "cell_type": "code",
      "source": [
        "# Write a NumPy function to concatenate the arrays 'a' and 'b'\n",
        "a = np.array([[-4,6,8], [9, 3, 1], [1, 8, 5]])\n",
        "b = np.array([[11,16,18], [90, 37, 81], [61, 48, 75]])\n",
        "print(np.concatenate((a,b),axis = None),\"\\n\")\n",
        "\n",
        "# Write a NumPy function to concatenate the arrays 'a' and 'b' along axis = 0\n",
        "print(np.concatenate((a,b),axis = 0))\n",
        "\n",
        "# Note: You can do the same function using stacking, discover and try that :)\n"
      ],
      "metadata": {
        "id": "cixOoXZhEY8-",
        "colab": {
          "base_uri": "https://localhost:8080/"
        },
        "outputId": "63432dfe-eff4-4cc7-f0f9-c18af972c5ea"
      },
      "execution_count": null,
      "outputs": [
        {
          "output_type": "stream",
          "name": "stdout",
          "text": [
            "[-4  6  8  9  3  1  1  8  5 11 16 18 90 37 81 61 48 75] \n",
            "\n",
            "[[-4  6  8]\n",
            " [ 9  3  1]\n",
            " [ 1  8  5]\n",
            " [11 16 18]\n",
            " [90 37 81]\n",
            " [61 48 75]]\n"
          ]
        }
      ]
    },
    {
      "cell_type": "markdown",
      "source": [
        "### Reshaping arrays\n",
        "- the number of dimensions of the array\n",
        "-  shape of n-dimensional array as a tuple with n elements s.t. $i^{th}$ element is the length of the $i^{th}$ dimension of the array\n",
        "- total number of elements of the array\n",
        "- reshapes the array\n",
        "- flattens multidimensional array into a 1D array\n",
        "- adds new dimensions to the array"
      ],
      "metadata": {
        "id": "aY0j33z2EjNx"
      }
    },
    {
      "cell_type": "code",
      "source": [
        "a = np.array([[4,6,8], [9, 3, 1], [1, 8, 5]])"
      ],
      "metadata": {
        "id": "sStUkoh1FG4N"
      },
      "execution_count": null,
      "outputs": []
    },
    {
      "cell_type": "code",
      "source": [
        "# Write a NumPy function to get the Number of dimensions\n",
        "print(a.ndim)\n",
        "\n",
        "# Write a NumPy function to get the Shape of the array  \n",
        "\n",
        "print(a.shape)\n",
        "# Write a NumPy function to get the Size of the array\n",
        "print(a.size)\n",
        "\n"
      ],
      "metadata": {
        "id": "vb35oi57Ev1f",
        "colab": {
          "base_uri": "https://localhost:8080/"
        },
        "outputId": "e4ee86f6-05ec-4474-9273-873b7ae8d000"
      },
      "execution_count": null,
      "outputs": [
        {
          "output_type": "stream",
          "name": "stdout",
          "text": [
            "2\n",
            "(3, 3)\n",
            "9\n"
          ]
        }
      ]
    },
    {
      "cell_type": "code",
      "source": [
        "# Write a NumPy function to Reshape the array 'a' to the dimension (1,9)\n",
        "a = np.array([[4,6,8], [9, 3, 1], [1, 8, 5]])\n",
        "print(a.reshape(1,9))\n"
      ],
      "metadata": {
        "id": "MznU0NWKE54c",
        "colab": {
          "base_uri": "https://localhost:8080/"
        },
        "outputId": "80b3a61b-f539-4a6e-84d4-eaa85c86e9a6"
      },
      "execution_count": null,
      "outputs": [
        {
          "output_type": "stream",
          "name": "stdout",
          "text": [
            "[[4 6 8 9 3 1 1 8 5]]\n"
          ]
        }
      ]
    },
    {
      "cell_type": "code",
      "source": [
        "# Write a NumPy function to add a new axis to the array 'a' \n",
        "a = np.array([[4,6,8], [9, 3, 1], [1, 8, 5]])\n",
        "print(a.reshape(3,1,3))\n",
        "# Note : Show atleast two different ways of doing this \n",
        "\n"
      ],
      "metadata": {
        "id": "p1dlxcNYE8tv",
        "colab": {
          "base_uri": "https://localhost:8080/"
        },
        "outputId": "399b8f82-04f1-4958-e3c4-29782f52a091"
      },
      "execution_count": null,
      "outputs": [
        {
          "output_type": "stream",
          "name": "stdout",
          "text": [
            "[[[4 6 8]]\n",
            "\n",
            " [[9 3 1]]\n",
            "\n",
            " [[1 8 5]]]\n"
          ]
        }
      ]
    },
    {
      "cell_type": "markdown",
      "source": [
        "### Indexing and slicing\n",
        "- NumPy allows indexing array using tuple of nonnegative integers, booleans, array or integers"
      ],
      "metadata": {
        "id": "Ng4xWkwpFtao"
      }
    },
    {
      "cell_type": "code",
      "source": [
        "a = np.array([[4,6,0], [0, 3, 1], [1, 8, 5]])"
      ],
      "metadata": {
        "id": "swrtOhPGGB7r"
      },
      "execution_count": null,
      "outputs": []
    },
    {
      "cell_type": "code",
      "source": [
        "# Write a NumPy function to index and slice NumPy arrays similar to Python lists\n",
        "# Show all three - indexing by a integer, indexing by a tuple, using range\n"
      ],
      "metadata": {
        "id": "w3QaVYRyFs77"
      },
      "execution_count": null,
      "outputs": []
    },
    {
      "cell_type": "code",
      "source": [
        "# Write a NumPy function to select values satisfying a specific condition like Values greater than 4 \n",
        "import numpy as np\n",
        "a = np.array([[4,6,5], [0, 3, 1], [1, 8, 5]])\n",
        "\n",
        "for i in a:\n",
        "  for j in i:\n",
        "    if(j>4 ):\n",
        "      print(j, end=\" \")\n",
        "\n",
        "print(\"\\n\")\n",
        "# Write a NumPy function to select values satisfying mulitple conditions like Values greater than 4 and divisible by 2\n",
        "for i in a:\n",
        "  for j in i:\n",
        "    if(j>4 and j%2==0):\n",
        "      print(j, end=\" \")\n",
        "\n"
      ],
      "metadata": {
        "id": "Xn2_z5h-Fmrd",
        "colab": {
          "base_uri": "https://localhost:8080/"
        },
        "outputId": "499a4dc9-88e6-4d8d-cf97-4f417ac6f864"
      },
      "execution_count": null,
      "outputs": [
        {
          "output_type": "stream",
          "name": "stdout",
          "text": [
            "6 5 8 5 \n",
            "\n",
            "6 8 "
          ]
        }
      ]
    },
    {
      "cell_type": "markdown",
      "source": [
        "### Copying arrays\n",
        "- new array object with a copy of the data\n",
        "- Changes made in the copy array is not reflected in the original array"
      ],
      "metadata": {
        "id": "GWU0EfaAG2ll"
      }
    },
    {
      "cell_type": "code",
      "source": [
        "a = np.array([[4,6,0], [0, 3, 1], [1, 8, 5]])"
      ],
      "metadata": {
        "id": "ijdgy02lHMJW"
      },
      "execution_count": null,
      "outputs": []
    },
    {
      "cell_type": "code",
      "source": [
        "# Write a NumPy function to copy the array 'a' and finally print an array where all elements are increased by 1\n",
        "a = np.array([[4,6,0], [0, 3, 1], [1, 8, 5]])\n",
        "b = np.copy(a)\n",
        "print(b+1)"
      ],
      "metadata": {
        "id": "FmgUdh66GuQH",
        "colab": {
          "base_uri": "https://localhost:8080/"
        },
        "outputId": "0298cc13-25ab-4e25-a4c9-9a24143d499a"
      },
      "execution_count": null,
      "outputs": [
        {
          "output_type": "stream",
          "name": "stdout",
          "text": [
            "[[5 7 1]\n",
            " [1 4 2]\n",
            " [2 9 6]]\n"
          ]
        }
      ]
    },
    {
      "cell_type": "markdown",
      "source": [
        "## Pandas ( Python Data Analysis Library)\n",
        "\n",
        "### Main Features\n",
        "- Easy handling of missing data in both floating point and non-floating point data.\n",
        "- Automatic and explicit data alignment, making it easy to perform computations and transformations on data sets.\n",
        "\n"
      ],
      "metadata": {
        "id": "M1KLD5QxHsVw"
      }
    },
    {
      "cell_type": "markdown",
      "source": [
        "#### Generating the dataset "
      ],
      "metadata": {
        "id": "v1CuU3FeIq1a"
      }
    },
    {
      "cell_type": "markdown",
      "source": [
        "Run the following load command to get the 2-Dim iris dataset. Do the following operations on it and please dont edit this cell"
      ],
      "metadata": {
        "id": "fp36ZqOMIy7k"
      }
    },
    {
      "cell_type": "code",
      "source": [
        "url = 'https://archive.ics.uci.edu/ml/machine-learning-databases/iris/iris.data'\n",
        "iris_2d = np.genfromtxt(url, delimiter=',', dtype='float', usecols=[0,1,2,3])"
      ],
      "metadata": {
        "id": "A_O5RTBXIyK-"
      },
      "execution_count": null,
      "outputs": []
    },
    {
      "cell_type": "markdown",
      "source": [
        "#### Basic Data Analysis"
      ],
      "metadata": {
        "id": "EILb6pPrS8Ju"
      }
    },
    {
      "cell_type": "code",
      "source": [
        "# Write a Pandas function to drop rows that contain a missing value. \n",
        "import pandas as pd\n",
        "df = pd.read_csv( 'https://archive.ics.uci.edu/ml/machine-learning-databases/iris/iris.data')\n",
        "new_df = df.dropna()\n",
        "print(new_df.to_string(index = False,header = False) )\n",
        "\n"
      ],
      "metadata": {
        "id": "bViO1LLoI7sz",
        "colab": {
          "base_uri": "https://localhost:8080/"
        },
        "outputId": "a86535dc-862c-4ece-ce23-ecc5085c09c3"
      },
      "execution_count": null,
      "outputs": [
        {
          "output_type": "stream",
          "name": "stdout",
          "text": [
            "4.9 3.0 1.4 0.2     Iris-setosa\n",
            "4.7 3.2 1.3 0.2     Iris-setosa\n",
            "4.6 3.1 1.5 0.2     Iris-setosa\n",
            "5.0 3.6 1.4 0.2     Iris-setosa\n",
            "5.4 3.9 1.7 0.4     Iris-setosa\n",
            "4.6 3.4 1.4 0.3     Iris-setosa\n",
            "5.0 3.4 1.5 0.2     Iris-setosa\n",
            "4.4 2.9 1.4 0.2     Iris-setosa\n",
            "4.9 3.1 1.5 0.1     Iris-setosa\n",
            "5.4 3.7 1.5 0.2     Iris-setosa\n",
            "4.8 3.4 1.6 0.2     Iris-setosa\n",
            "4.8 3.0 1.4 0.1     Iris-setosa\n",
            "4.3 3.0 1.1 0.1     Iris-setosa\n",
            "5.8 4.0 1.2 0.2     Iris-setosa\n",
            "5.7 4.4 1.5 0.4     Iris-setosa\n",
            "5.4 3.9 1.3 0.4     Iris-setosa\n",
            "5.1 3.5 1.4 0.3     Iris-setosa\n",
            "5.7 3.8 1.7 0.3     Iris-setosa\n",
            "5.1 3.8 1.5 0.3     Iris-setosa\n",
            "5.4 3.4 1.7 0.2     Iris-setosa\n",
            "5.1 3.7 1.5 0.4     Iris-setosa\n",
            "4.6 3.6 1.0 0.2     Iris-setosa\n",
            "5.1 3.3 1.7 0.5     Iris-setosa\n",
            "4.8 3.4 1.9 0.2     Iris-setosa\n",
            "5.0 3.0 1.6 0.2     Iris-setosa\n",
            "5.0 3.4 1.6 0.4     Iris-setosa\n",
            "5.2 3.5 1.5 0.2     Iris-setosa\n",
            "5.2 3.4 1.4 0.2     Iris-setosa\n",
            "4.7 3.2 1.6 0.2     Iris-setosa\n",
            "4.8 3.1 1.6 0.2     Iris-setosa\n",
            "5.4 3.4 1.5 0.4     Iris-setosa\n",
            "5.2 4.1 1.5 0.1     Iris-setosa\n",
            "5.5 4.2 1.4 0.2     Iris-setosa\n",
            "4.9 3.1 1.5 0.1     Iris-setosa\n",
            "5.0 3.2 1.2 0.2     Iris-setosa\n",
            "5.5 3.5 1.3 0.2     Iris-setosa\n",
            "4.9 3.1 1.5 0.1     Iris-setosa\n",
            "4.4 3.0 1.3 0.2     Iris-setosa\n",
            "5.1 3.4 1.5 0.2     Iris-setosa\n",
            "5.0 3.5 1.3 0.3     Iris-setosa\n",
            "4.5 2.3 1.3 0.3     Iris-setosa\n",
            "4.4 3.2 1.3 0.2     Iris-setosa\n",
            "5.0 3.5 1.6 0.6     Iris-setosa\n",
            "5.1 3.8 1.9 0.4     Iris-setosa\n",
            "4.8 3.0 1.4 0.3     Iris-setosa\n",
            "5.1 3.8 1.6 0.2     Iris-setosa\n",
            "4.6 3.2 1.4 0.2     Iris-setosa\n",
            "5.3 3.7 1.5 0.2     Iris-setosa\n",
            "5.0 3.3 1.4 0.2     Iris-setosa\n",
            "7.0 3.2 4.7 1.4 Iris-versicolor\n",
            "6.4 3.2 4.5 1.5 Iris-versicolor\n",
            "6.9 3.1 4.9 1.5 Iris-versicolor\n",
            "5.5 2.3 4.0 1.3 Iris-versicolor\n",
            "6.5 2.8 4.6 1.5 Iris-versicolor\n",
            "5.7 2.8 4.5 1.3 Iris-versicolor\n",
            "6.3 3.3 4.7 1.6 Iris-versicolor\n",
            "4.9 2.4 3.3 1.0 Iris-versicolor\n",
            "6.6 2.9 4.6 1.3 Iris-versicolor\n",
            "5.2 2.7 3.9 1.4 Iris-versicolor\n",
            "5.0 2.0 3.5 1.0 Iris-versicolor\n",
            "5.9 3.0 4.2 1.5 Iris-versicolor\n",
            "6.0 2.2 4.0 1.0 Iris-versicolor\n",
            "6.1 2.9 4.7 1.4 Iris-versicolor\n",
            "5.6 2.9 3.6 1.3 Iris-versicolor\n",
            "6.7 3.1 4.4 1.4 Iris-versicolor\n",
            "5.6 3.0 4.5 1.5 Iris-versicolor\n",
            "5.8 2.7 4.1 1.0 Iris-versicolor\n",
            "6.2 2.2 4.5 1.5 Iris-versicolor\n",
            "5.6 2.5 3.9 1.1 Iris-versicolor\n",
            "5.9 3.2 4.8 1.8 Iris-versicolor\n",
            "6.1 2.8 4.0 1.3 Iris-versicolor\n",
            "6.3 2.5 4.9 1.5 Iris-versicolor\n",
            "6.1 2.8 4.7 1.2 Iris-versicolor\n",
            "6.4 2.9 4.3 1.3 Iris-versicolor\n",
            "6.6 3.0 4.4 1.4 Iris-versicolor\n",
            "6.8 2.8 4.8 1.4 Iris-versicolor\n",
            "6.7 3.0 5.0 1.7 Iris-versicolor\n",
            "6.0 2.9 4.5 1.5 Iris-versicolor\n",
            "5.7 2.6 3.5 1.0 Iris-versicolor\n",
            "5.5 2.4 3.8 1.1 Iris-versicolor\n",
            "5.5 2.4 3.7 1.0 Iris-versicolor\n",
            "5.8 2.7 3.9 1.2 Iris-versicolor\n",
            "6.0 2.7 5.1 1.6 Iris-versicolor\n",
            "5.4 3.0 4.5 1.5 Iris-versicolor\n",
            "6.0 3.4 4.5 1.6 Iris-versicolor\n",
            "6.7 3.1 4.7 1.5 Iris-versicolor\n",
            "6.3 2.3 4.4 1.3 Iris-versicolor\n",
            "5.6 3.0 4.1 1.3 Iris-versicolor\n",
            "5.5 2.5 4.0 1.3 Iris-versicolor\n",
            "5.5 2.6 4.4 1.2 Iris-versicolor\n",
            "6.1 3.0 4.6 1.4 Iris-versicolor\n",
            "5.8 2.6 4.0 1.2 Iris-versicolor\n",
            "5.0 2.3 3.3 1.0 Iris-versicolor\n",
            "5.6 2.7 4.2 1.3 Iris-versicolor\n",
            "5.7 3.0 4.2 1.2 Iris-versicolor\n",
            "5.7 2.9 4.2 1.3 Iris-versicolor\n",
            "6.2 2.9 4.3 1.3 Iris-versicolor\n",
            "5.1 2.5 3.0 1.1 Iris-versicolor\n",
            "5.7 2.8 4.1 1.3 Iris-versicolor\n",
            "6.3 3.3 6.0 2.5  Iris-virginica\n",
            "5.8 2.7 5.1 1.9  Iris-virginica\n",
            "7.1 3.0 5.9 2.1  Iris-virginica\n",
            "6.3 2.9 5.6 1.8  Iris-virginica\n",
            "6.5 3.0 5.8 2.2  Iris-virginica\n",
            "7.6 3.0 6.6 2.1  Iris-virginica\n",
            "4.9 2.5 4.5 1.7  Iris-virginica\n",
            "7.3 2.9 6.3 1.8  Iris-virginica\n",
            "6.7 2.5 5.8 1.8  Iris-virginica\n",
            "7.2 3.6 6.1 2.5  Iris-virginica\n",
            "6.5 3.2 5.1 2.0  Iris-virginica\n",
            "6.4 2.7 5.3 1.9  Iris-virginica\n",
            "6.8 3.0 5.5 2.1  Iris-virginica\n",
            "5.7 2.5 5.0 2.0  Iris-virginica\n",
            "5.8 2.8 5.1 2.4  Iris-virginica\n",
            "6.4 3.2 5.3 2.3  Iris-virginica\n",
            "6.5 3.0 5.5 1.8  Iris-virginica\n",
            "7.7 3.8 6.7 2.2  Iris-virginica\n",
            "7.7 2.6 6.9 2.3  Iris-virginica\n",
            "6.0 2.2 5.0 1.5  Iris-virginica\n",
            "6.9 3.2 5.7 2.3  Iris-virginica\n",
            "5.6 2.8 4.9 2.0  Iris-virginica\n",
            "7.7 2.8 6.7 2.0  Iris-virginica\n",
            "6.3 2.7 4.9 1.8  Iris-virginica\n",
            "6.7 3.3 5.7 2.1  Iris-virginica\n",
            "7.2 3.2 6.0 1.8  Iris-virginica\n",
            "6.2 2.8 4.8 1.8  Iris-virginica\n",
            "6.1 3.0 4.9 1.8  Iris-virginica\n",
            "6.4 2.8 5.6 2.1  Iris-virginica\n",
            "7.2 3.0 5.8 1.6  Iris-virginica\n",
            "7.4 2.8 6.1 1.9  Iris-virginica\n",
            "7.9 3.8 6.4 2.0  Iris-virginica\n",
            "6.4 2.8 5.6 2.2  Iris-virginica\n",
            "6.3 2.8 5.1 1.5  Iris-virginica\n",
            "6.1 2.6 5.6 1.4  Iris-virginica\n",
            "7.7 3.0 6.1 2.3  Iris-virginica\n",
            "6.3 3.4 5.6 2.4  Iris-virginica\n",
            "6.4 3.1 5.5 1.8  Iris-virginica\n",
            "6.0 3.0 4.8 1.8  Iris-virginica\n",
            "6.9 3.1 5.4 2.1  Iris-virginica\n",
            "6.7 3.1 5.6 2.4  Iris-virginica\n",
            "6.9 3.1 5.1 2.3  Iris-virginica\n",
            "5.8 2.7 5.1 1.9  Iris-virginica\n",
            "6.8 3.2 5.9 2.3  Iris-virginica\n",
            "6.7 3.3 5.7 2.5  Iris-virginica\n",
            "6.7 3.0 5.2 2.3  Iris-virginica\n",
            "6.3 2.5 5.0 1.9  Iris-virginica\n",
            "6.5 3.0 5.2 2.0  Iris-virginica\n",
            "6.2 3.4 5.4 2.3  Iris-virginica\n",
            "5.9 3.0 5.1 1.8  Iris-virginica\n"
          ]
        }
      ]
    },
    {
      "cell_type": "code",
      "source": [
        "# Write a Pandas function to find the correlation between the first two columns.\n",
        "d = df.iloc[:, 0].corr(df.iloc[:, 1])\n",
        "print(d)\n",
        "\n"
      ],
      "metadata": {
        "id": "zp_BYv5EJDjJ",
        "colab": {
          "base_uri": "https://localhost:8080/"
        },
        "outputId": "c8dd44cc-1c7a-4a5d-b962-e0d8a4b94733"
      },
      "execution_count": null,
      "outputs": [
        {
          "output_type": "stream",
          "name": "stdout",
          "text": [
            "-0.10378414795681824\n"
          ]
        }
      ]
    },
    {
      "cell_type": "code",
      "source": [
        "# Write a Pandas function to find the mean, median and standard deviation of column3\n",
        "a = df.iloc[:,2].mean()\n",
        "b = df.iloc[:,2].median()\n",
        "c = df.iloc[:,2].std()\n",
        "print(a,'\\n',b,'\\n',c)"
      ],
      "metadata": {
        "id": "0mjeoZCwJDoW",
        "colab": {
          "base_uri": "https://localhost:8080/"
        },
        "outputId": "690183ae-495e-4025-8297-ad8e8f0041d3"
      },
      "execution_count": null,
      "outputs": [
        {
          "output_type": "stream",
          "name": "stdout",
          "text": [
            "3.774496644295302 \n",
            " 4.4 \n",
            " 1.7596511617753423\n"
          ]
        }
      ]
    },
    {
      "cell_type": "code",
      "source": [],
      "metadata": {
        "id": "bRiYEhWTJDrM",
        "colab": {
          "base_uri": "https://localhost:8080/",
          "height": 433
        },
        "outputId": "e2c9b774-1a12-462d-d4ce-4709be9c482d"
      },
      "execution_count": null,
      "outputs": [
        {
          "output_type": "error",
          "ename": "InvalidIndexError",
          "evalue": "ignored",
          "traceback": [
            "\u001b[0;31m---------------------------------------------------------------------------\u001b[0m",
            "\u001b[0;31mTypeError\u001b[0m                                 Traceback (most recent call last)",
            "\u001b[0;32m/usr/local/lib/python3.10/dist-packages/pandas/core/indexes/base.py\u001b[0m in \u001b[0;36mget_loc\u001b[0;34m(self, key, method, tolerance)\u001b[0m\n\u001b[1;32m   3801\u001b[0m             \u001b[0;32mtry\u001b[0m\u001b[0;34m:\u001b[0m\u001b[0;34m\u001b[0m\u001b[0;34m\u001b[0m\u001b[0m\n\u001b[0;32m-> 3802\u001b[0;31m                 \u001b[0;32mreturn\u001b[0m \u001b[0mself\u001b[0m\u001b[0;34m.\u001b[0m\u001b[0m_engine\u001b[0m\u001b[0;34m.\u001b[0m\u001b[0mget_loc\u001b[0m\u001b[0;34m(\u001b[0m\u001b[0mcasted_key\u001b[0m\u001b[0;34m)\u001b[0m\u001b[0;34m\u001b[0m\u001b[0;34m\u001b[0m\u001b[0m\n\u001b[0m\u001b[1;32m   3803\u001b[0m             \u001b[0;32mexcept\u001b[0m \u001b[0mKeyError\u001b[0m \u001b[0;32mas\u001b[0m \u001b[0merr\u001b[0m\u001b[0;34m:\u001b[0m\u001b[0;34m\u001b[0m\u001b[0;34m\u001b[0m\u001b[0m\n",
            "\u001b[0;32m/usr/local/lib/python3.10/dist-packages/pandas/_libs/index.pyx\u001b[0m in \u001b[0;36mpandas._libs.index.IndexEngine.get_loc\u001b[0;34m()\u001b[0m\n",
            "\u001b[0;32m/usr/local/lib/python3.10/dist-packages/pandas/_libs/index.pyx\u001b[0m in \u001b[0;36mpandas._libs.index.IndexEngine.get_loc\u001b[0;34m()\u001b[0m\n",
            "\u001b[0;31mTypeError\u001b[0m: '(slice(None, None, None), 2)' is an invalid key",
            "\nDuring handling of the above exception, another exception occurred:\n",
            "\u001b[0;31mInvalidIndexError\u001b[0m                         Traceback (most recent call last)",
            "\u001b[0;32m<ipython-input-96-69a6b616a1a3>\u001b[0m in \u001b[0;36m<cell line: 17>\u001b[0;34m()\u001b[0m\n\u001b[1;32m     15\u001b[0m \u001b[0;34m\u001b[0m\u001b[0m\n\u001b[1;32m     16\u001b[0m     \u001b[0;32mreturn\u001b[0m \u001b[0mdf\u001b[0m\u001b[0;34m\u001b[0m\u001b[0;34m\u001b[0m\u001b[0m\n\u001b[0;32m---> 17\u001b[0;31m \u001b[0mnew_df\u001b[0m \u001b[0;34m=\u001b[0m \u001b[0madd_volume_column\u001b[0m\u001b[0;34m(\u001b[0m\u001b[0mdf\u001b[0m\u001b[0;34m)\u001b[0m\u001b[0;34m\u001b[0m\u001b[0;34m\u001b[0m\u001b[0m\n\u001b[0m\u001b[1;32m     18\u001b[0m \u001b[0mprint\u001b[0m\u001b[0;34m(\u001b[0m\u001b[0mnew_df\u001b[0m\u001b[0;34m.\u001b[0m\u001b[0mhead\u001b[0m\u001b[0;34m(\u001b[0m\u001b[0;34m)\u001b[0m\u001b[0;34m)\u001b[0m\u001b[0;34m\u001b[0m\u001b[0;34m\u001b[0m\u001b[0m\n\u001b[1;32m     19\u001b[0m \u001b[0;34m\u001b[0m\u001b[0m\n",
            "\u001b[0;32m<ipython-input-96-69a6b616a1a3>\u001b[0m in \u001b[0;36madd_volume_column\u001b[0;34m(df)\u001b[0m\n\u001b[1;32m      4\u001b[0m \u001b[0;32mdef\u001b[0m \u001b[0madd_volume_column\u001b[0m\u001b[0;34m(\u001b[0m\u001b[0mdf\u001b[0m\u001b[0;34m)\u001b[0m\u001b[0;34m:\u001b[0m\u001b[0;34m\u001b[0m\u001b[0;34m\u001b[0m\u001b[0m\n\u001b[1;32m      5\u001b[0m \u001b[0;34m\u001b[0m\u001b[0m\n\u001b[0;32m----> 6\u001b[0;31m     \u001b[0mpetal_length\u001b[0m \u001b[0;34m=\u001b[0m \u001b[0mdf\u001b[0m\u001b[0;34m[\u001b[0m\u001b[0;34m:\u001b[0m\u001b[0;34m,\u001b[0m \u001b[0;36m2\u001b[0m\u001b[0;34m]\u001b[0m\u001b[0;34m[\u001b[0m\u001b[0;34m:\u001b[0m\u001b[0;34m,\u001b[0m \u001b[0mnp\u001b[0m\u001b[0;34m.\u001b[0m\u001b[0mnewaxis\u001b[0m\u001b[0;34m]\u001b[0m\u001b[0;34m\u001b[0m\u001b[0;34m\u001b[0m\u001b[0m\n\u001b[0m\u001b[1;32m      7\u001b[0m     \u001b[0msepal_length\u001b[0m \u001b[0;34m=\u001b[0m \u001b[0mdf\u001b[0m\u001b[0;34m[\u001b[0m\u001b[0;34m:\u001b[0m\u001b[0;34m,\u001b[0m \u001b[0;36m3\u001b[0m\u001b[0;34m]\u001b[0m\u001b[0;34m[\u001b[0m\u001b[0;34m:\u001b[0m\u001b[0;34m,\u001b[0m \u001b[0mnp\u001b[0m\u001b[0;34m.\u001b[0m\u001b[0mnewaxis\u001b[0m\u001b[0;34m]\u001b[0m\u001b[0;34m\u001b[0m\u001b[0;34m\u001b[0m\u001b[0m\n\u001b[1;32m      8\u001b[0m \u001b[0;34m\u001b[0m\u001b[0m\n",
            "\u001b[0;32m/usr/local/lib/python3.10/dist-packages/pandas/core/frame.py\u001b[0m in \u001b[0;36m__getitem__\u001b[0;34m(self, key)\u001b[0m\n\u001b[1;32m   3805\u001b[0m             \u001b[0;32mif\u001b[0m \u001b[0mself\u001b[0m\u001b[0;34m.\u001b[0m\u001b[0mcolumns\u001b[0m\u001b[0;34m.\u001b[0m\u001b[0mnlevels\u001b[0m \u001b[0;34m>\u001b[0m \u001b[0;36m1\u001b[0m\u001b[0;34m:\u001b[0m\u001b[0;34m\u001b[0m\u001b[0;34m\u001b[0m\u001b[0m\n\u001b[1;32m   3806\u001b[0m                 \u001b[0;32mreturn\u001b[0m \u001b[0mself\u001b[0m\u001b[0;34m.\u001b[0m\u001b[0m_getitem_multilevel\u001b[0m\u001b[0;34m(\u001b[0m\u001b[0mkey\u001b[0m\u001b[0;34m)\u001b[0m\u001b[0;34m\u001b[0m\u001b[0;34m\u001b[0m\u001b[0m\n\u001b[0;32m-> 3807\u001b[0;31m             \u001b[0mindexer\u001b[0m \u001b[0;34m=\u001b[0m \u001b[0mself\u001b[0m\u001b[0;34m.\u001b[0m\u001b[0mcolumns\u001b[0m\u001b[0;34m.\u001b[0m\u001b[0mget_loc\u001b[0m\u001b[0;34m(\u001b[0m\u001b[0mkey\u001b[0m\u001b[0;34m)\u001b[0m\u001b[0;34m\u001b[0m\u001b[0;34m\u001b[0m\u001b[0m\n\u001b[0m\u001b[1;32m   3808\u001b[0m             \u001b[0;32mif\u001b[0m \u001b[0mis_integer\u001b[0m\u001b[0;34m(\u001b[0m\u001b[0mindexer\u001b[0m\u001b[0;34m)\u001b[0m\u001b[0;34m:\u001b[0m\u001b[0;34m\u001b[0m\u001b[0;34m\u001b[0m\u001b[0m\n\u001b[1;32m   3809\u001b[0m                 \u001b[0mindexer\u001b[0m \u001b[0;34m=\u001b[0m \u001b[0;34m[\u001b[0m\u001b[0mindexer\u001b[0m\u001b[0;34m]\u001b[0m\u001b[0;34m\u001b[0m\u001b[0;34m\u001b[0m\u001b[0m\n",
            "\u001b[0;32m/usr/local/lib/python3.10/dist-packages/pandas/core/indexes/base.py\u001b[0m in \u001b[0;36mget_loc\u001b[0;34m(self, key, method, tolerance)\u001b[0m\n\u001b[1;32m   3807\u001b[0m                 \u001b[0;31m#  InvalidIndexError. Otherwise we fall through and re-raise\u001b[0m\u001b[0;34m\u001b[0m\u001b[0;34m\u001b[0m\u001b[0m\n\u001b[1;32m   3808\u001b[0m                 \u001b[0;31m#  the TypeError.\u001b[0m\u001b[0;34m\u001b[0m\u001b[0;34m\u001b[0m\u001b[0m\n\u001b[0;32m-> 3809\u001b[0;31m                 \u001b[0mself\u001b[0m\u001b[0;34m.\u001b[0m\u001b[0m_check_indexing_error\u001b[0m\u001b[0;34m(\u001b[0m\u001b[0mkey\u001b[0m\u001b[0;34m)\u001b[0m\u001b[0;34m\u001b[0m\u001b[0;34m\u001b[0m\u001b[0m\n\u001b[0m\u001b[1;32m   3810\u001b[0m                 \u001b[0;32mraise\u001b[0m\u001b[0;34m\u001b[0m\u001b[0;34m\u001b[0m\u001b[0m\n\u001b[1;32m   3811\u001b[0m \u001b[0;34m\u001b[0m\u001b[0m\n",
            "\u001b[0;32m/usr/local/lib/python3.10/dist-packages/pandas/core/indexes/base.py\u001b[0m in \u001b[0;36m_check_indexing_error\u001b[0;34m(self, key)\u001b[0m\n\u001b[1;32m   5923\u001b[0m             \u001b[0;31m# if key is not a scalar, directly raise an error (the code below\u001b[0m\u001b[0;34m\u001b[0m\u001b[0;34m\u001b[0m\u001b[0m\n\u001b[1;32m   5924\u001b[0m             \u001b[0;31m# would convert to numpy arrays and raise later any way) - GH29926\u001b[0m\u001b[0;34m\u001b[0m\u001b[0;34m\u001b[0m\u001b[0m\n\u001b[0;32m-> 5925\u001b[0;31m             \u001b[0;32mraise\u001b[0m \u001b[0mInvalidIndexError\u001b[0m\u001b[0;34m(\u001b[0m\u001b[0mkey\u001b[0m\u001b[0;34m)\u001b[0m\u001b[0;34m\u001b[0m\u001b[0;34m\u001b[0m\u001b[0m\n\u001b[0m\u001b[1;32m   5926\u001b[0m \u001b[0;34m\u001b[0m\u001b[0m\n\u001b[1;32m   5927\u001b[0m     \u001b[0;34m@\u001b[0m\u001b[0mcache_readonly\u001b[0m\u001b[0;34m\u001b[0m\u001b[0;34m\u001b[0m\u001b[0m\n",
            "\u001b[0;31mInvalidIndexError\u001b[0m: (slice(None, None, None), 2)"
          ]
        }
      ]
    },
    {
      "cell_type": "markdown",
      "source": [
        "# Section B *(2 Marks each)*"
      ],
      "metadata": {
        "id": "dGqrG93ELEQ3"
      }
    },
    {
      "cell_type": "markdown",
      "source": [
        "###NumPy"
      ],
      "metadata": {
        "id": "OLm8jv7tMH6h"
      }
    },
    {
      "cell_type": "markdown",
      "source": [
        "Q1 Let x = np.arange(4, dtype=np.int64). Create an array of ones with the same shape and type as X."
      ],
      "metadata": {
        "id": "zE1n0x7ZLRLU"
      }
    },
    {
      "cell_type": "code",
      "source": [
        "a = np.ones((1,4))\n",
        "print(a)"
      ],
      "metadata": {
        "id": "H8o9C6b7LJzA",
        "colab": {
          "base_uri": "https://localhost:8080/"
        },
        "outputId": "63291ba8-d621-4da1-9975-a5dcbc1a8ab1"
      },
      "execution_count": null,
      "outputs": [
        {
          "output_type": "stream",
          "name": "stdout",
          "text": [
            "[[1. 1. 1. 1.]]\n"
          ]
        }
      ]
    },
    {
      "cell_type": "markdown",
      "source": [
        "Q2 Let x be an array [1, 2, 3, ..., 9]. Split x into 3 arrays, each of which has 4, 2, and 3 elements in the original order."
      ],
      "metadata": {
        "id": "PPYeTqoHLSNj"
      }
    },
    {
      "cell_type": "code",
      "source": [
        "import numpy as np\n",
        "x = np.arange(1,10, dtype = np.int64)\n",
        "a = np.split(x,[4,6])\n",
        "print(a)\n"
      ],
      "metadata": {
        "id": "DS9mr30LLYdg",
        "colab": {
          "base_uri": "https://localhost:8080/"
        },
        "outputId": "f800cc2d-eb2a-4a5a-cc70-386ab2b896b2"
      },
      "execution_count": null,
      "outputs": [
        {
          "output_type": "stream",
          "name": "stdout",
          "text": [
            "[array([1, 2, 3, 4]), array([5, 6]), array([7, 8, 9])]\n"
          ]
        }
      ]
    },
    {
      "cell_type": "markdown",
      "source": [
        "Q3 Initiate x as a 2x5 array with random values from 0 to 10(not inclusive).Get the maximum and minimum values and their indices of x along the second axis."
      ],
      "metadata": {
        "id": "b1wJaooRLXjN"
      }
    },
    {
      "cell_type": "code",
      "source": [
        "from numpy import random as rd\n",
        "a=np.random.randint(10,size=(2,5))\n",
        "print(a)\n",
        "\n",
        "print(\"Max value is  \", np.max(a),\" on indices\", np.where(a == np.max(a))[0])\n",
        "print(\"Min value is  \", np.min(a),\" on indices\",np.where(a == np.min(a))[0])\n",
        "\n",
        "\n",
        "\n"
      ],
      "metadata": {
        "id": "GnXDqksjLf89",
        "colab": {
          "base_uri": "https://localhost:8080/"
        },
        "outputId": "72f55fa6-2c62-4d7a-fa73-18bbeaa812f6"
      },
      "execution_count": null,
      "outputs": [
        {
          "output_type": "stream",
          "name": "stdout",
          "text": [
            "[[4 0 0 5 7]\n",
            " [6 0 3 8 1]]\n",
            "Max value is   8  on index [1]\n",
            "Min value is   0  on index [0 0 1]\n"
          ]
        }
      ]
    },
    {
      "cell_type": "markdown",
      "source": [
        "### Pandas"
      ],
      "metadata": {
        "id": "8_Q7fbyxMMHM"
      }
    },
    {
      "cell_type": "markdown",
      "source": [
        "Run the following load command and solve the following questions"
      ],
      "metadata": {
        "id": "3QpaFHkxJUho"
      }
    },
    {
      "cell_type": "code",
      "source": [
        "url = 'https://archive.ics.uci.edu/ml/machine-learning-databases/iris/iris.data'\n",
        "iris = np.genfromtxt(url, delimiter=',', dtype='object')\n",
        "names = ('sepallength', 'sepalwidth', 'petallength', 'petalwidth', 'species')"
      ],
      "metadata": {
        "id": "mLdcY49iJDtl"
      },
      "execution_count": null,
      "outputs": []
    },
    {
      "cell_type": "markdown",
      "source": [
        "Q4 Write a Pandas function to find the count of unique species."
      ],
      "metadata": {
        "id": "zbDepnx9RtV8"
      }
    },
    {
      "cell_type": "code",
      "source": [
        "import pandas as pd\n",
        "\n",
        "def countunique(df):\n",
        "  a = df['species'].unique()\n",
        "  print(len(a))\n",
        "\n",
        "df = pd.read_csv( 'https://archive.ics.uci.edu/ml/machine-learning-databases/iris/iris.data')\n",
        "df.columns=['sepallength', 'sepalwidth', 'petallength', 'petalwidth', 'species']\n",
        "countunique(df)\n"
      ],
      "metadata": {
        "id": "oAkO0UnqJDv7",
        "colab": {
          "base_uri": "https://localhost:8080/"
        },
        "outputId": "5417388b-2731-40e8-987b-94405413625f"
      },
      "execution_count": null,
      "outputs": [
        {
          "output_type": "stream",
          "name": "stdout",
          "text": [
            "3\n"
          ]
        }
      ]
    },
    {
      "cell_type": "markdown",
      "source": [
        "# Q5 Write a Pandas function to bin the petal length (3rd) column of iris_2d to form a text array, such that if petal length is:\n",
        "- Less than 3 –> ‘small’\n",
        "- 3-5 –> ‘medium’\n",
        "- greater than equal to 5 –> ‘large’"
      ],
      "metadata": {
        "id": "Usj5HlvyRxal"
      }
    },
    {
      "cell_type": "code",
      "source": [
        "def bining(df):\n",
        "  l=[]\n",
        "  for a in df[\"petallength\"]:\n",
        "    if a<3:\n",
        "      l.append(\"small\")\n",
        "    elif a>=3 and a<=5 :\n",
        "      l.append(\"medium\")\n",
        "    else:\n",
        "      l.append(\"large\") \n",
        "  print(l)\n",
        "\n",
        "\n",
        "df = pd.read_csv( 'https://archive.ics.uci.edu/ml/machine-learning-databases/iris/iris.data')\n",
        "df.columns=['sepallength', 'sepalwidth', 'petallength', 'petalwidth', 'species']\n",
        "bining(df)"
      ],
      "metadata": {
        "id": "gTWWJoLMJDxx",
        "colab": {
          "base_uri": "https://localhost:8080/"
        },
        "outputId": "01539a0b-1141-4063-dc45-218aaed00b0d"
      },
      "execution_count": null,
      "outputs": [
        {
          "output_type": "stream",
          "name": "stdout",
          "text": [
            "['small', 'small', 'small', 'small', 'small', 'small', 'small', 'small', 'small', 'small', 'small', 'small', 'small', 'small', 'small', 'small', 'small', 'small', 'small', 'small', 'small', 'small', 'small', 'small', 'small', 'small', 'small', 'small', 'small', 'small', 'small', 'small', 'small', 'small', 'small', 'small', 'small', 'small', 'small', 'small', 'small', 'small', 'small', 'small', 'small', 'small', 'small', 'small', 'small', 'medium', 'medium', 'medium', 'medium', 'medium', 'medium', 'medium', 'medium', 'medium', 'medium', 'medium', 'medium', 'medium', 'medium', 'medium', 'medium', 'medium', 'medium', 'medium', 'medium', 'medium', 'medium', 'medium', 'medium', 'medium', 'medium', 'medium', 'medium', 'medium', 'medium', 'medium', 'medium', 'medium', 'large', 'medium', 'medium', 'medium', 'medium', 'medium', 'medium', 'medium', 'medium', 'medium', 'medium', 'medium', 'medium', 'medium', 'medium', 'medium', 'medium', 'large', 'large', 'large', 'large', 'large', 'large', 'medium', 'large', 'large', 'large', 'large', 'large', 'large', 'medium', 'large', 'large', 'large', 'large', 'large', 'medium', 'large', 'medium', 'large', 'medium', 'large', 'large', 'medium', 'medium', 'large', 'large', 'large', 'large', 'large', 'large', 'large', 'large', 'large', 'large', 'medium', 'large', 'large', 'large', 'large', 'large', 'large', 'large', 'medium', 'large', 'large', 'large']\n"
          ]
        }
      ]
    },
    {
      "cell_type": "markdown",
      "source": [
        "Q6 Write a Pandas function to find the most frequent value of petal length (3rd column) in iris dataset"
      ],
      "metadata": {
        "id": "IbBYP_8sSBrB"
      }
    },
    {
      "cell_type": "code",
      "source": [
        "import pandas as pd\n",
        "\n",
        "def mostfreq(df):\n",
        "  a=df.mode()\n",
        "  print(a[\"petallength\"][0])\n",
        "\n",
        "df = pd.read_csv( 'https://archive.ics.uci.edu/ml/machine-learning-databases/iris/iris.data')\n",
        "df.columns=['sepallength', 'sepalwidth', 'petallength', 'petalwidth', 'species']\n",
        "mostfreq(df)"
      ],
      "metadata": {
        "id": "DNk_tlVWJufR",
        "colab": {
          "base_uri": "https://localhost:8080/"
        },
        "outputId": "bc39bed7-0371-42f1-b5b5-2d68625fcb4c"
      },
      "execution_count": null,
      "outputs": [
        {
          "output_type": "stream",
          "name": "stdout",
          "text": [
            "1.5\n"
          ]
        }
      ]
    }
  ]
}