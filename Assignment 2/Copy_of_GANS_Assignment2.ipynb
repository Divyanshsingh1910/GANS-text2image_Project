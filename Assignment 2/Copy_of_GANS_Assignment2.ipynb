{
  "cells": [
    {
      "cell_type": "markdown",
      "source": [
        "**Fill the Code blocks according to the comments provided as hints**"
      ],
      "metadata": {
        "id": "7Pjuly3ZBDS0"
      },
      "id": "7Pjuly3ZBDS0"
    },
    {
      "cell_type": "code",
      "execution_count": 461,
      "id": "7d78b116",
      "metadata": {
        "id": "7d78b116"
      },
      "outputs": [],
      "source": [
        "from sklearn.datasets import load_diabetes #We will use this dataset\n",
        "\n",
        "import numpy as np\n",
        "from sklearn.model_selection import train_test_split\n",
        "from sklearn import datasets, linear_model \n",
        "from sklearn.metrics import r2_score\n",
        "#import libraries for numpy, Linear regression, r2_score, train_test_split"
      ]
    },
    {
      "cell_type": "code",
      "execution_count": 462,
      "id": "6b46625d",
      "metadata": {
        "id": "6b46625d"
      },
      "outputs": [],
      "source": [
        "X,y = load_diabetes(return_X_y=True)  #loading dataset"
      ]
    },
    {
      "cell_type": "code",
      "execution_count": 463,
      "id": "c2ad6cd1",
      "metadata": {
        "id": "c2ad6cd1",
        "colab": {
          "base_uri": "https://localhost:8080/"
        },
        "outputId": "3a7af8bc-fd17-4614-ed26-561a0ce97cfb"
      },
      "outputs": [
        {
          "output_type": "stream",
          "name": "stdout",
          "text": [
            "Shape of X:  (442, 10)\n",
            "Shape of y:  (442,)\n"
          ]
        }
      ],
      "source": [
        "#print shape of X and y and write in a text block what do you observe about both \n",
        "print(\"Shape of X: \", X.shape)\n",
        "print(\"Shape of y: \", y.shape)"
      ]
    },
    {
      "cell_type": "markdown",
      "source": [
        "The shape of X indicate the number of rows and columns.The shape of X  will be (n_samples, n_features).\n",
        "The shape of y will indicate the number of target values corresponding to each sample in X. The shape of y will be (n_samples,)."
      ],
      "metadata": {
        "id": "VZ5VOi4Rhi-R"
      },
      "id": "VZ5VOi4Rhi-R"
    },
    {
      "cell_type": "code",
      "execution_count": 495,
      "id": "a70d2eb2",
      "metadata": {
        "id": "a70d2eb2"
      },
      "outputs": [],
      "source": [
        "#split the dataset into Train(80%) and Test(20%)\n",
        "X_train, X_test, y_train, y_test = train_test_split(X, y, test_size = 0.2, random_state = 31)\n"
      ]
    },
    {
      "cell_type": "code",
      "execution_count": 496,
      "id": "a8ec5613",
      "metadata": {
        "id": "a8ec5613",
        "colab": {
          "base_uri": "https://localhost:8080/",
          "height": 74
        },
        "outputId": "5db9fbd0-45c6-46d7-e8dd-1a4b56b65539"
      },
      "outputs": [
        {
          "output_type": "execute_result",
          "data": {
            "text/plain": [
              "LinearRegression()"
            ],
            "text/html": [
              "<style>#sk-container-id-42 {color: black;background-color: white;}#sk-container-id-42 pre{padding: 0;}#sk-container-id-42 div.sk-toggleable {background-color: white;}#sk-container-id-42 label.sk-toggleable__label {cursor: pointer;display: block;width: 100%;margin-bottom: 0;padding: 0.3em;box-sizing: border-box;text-align: center;}#sk-container-id-42 label.sk-toggleable__label-arrow:before {content: \"▸\";float: left;margin-right: 0.25em;color: #696969;}#sk-container-id-42 label.sk-toggleable__label-arrow:hover:before {color: black;}#sk-container-id-42 div.sk-estimator:hover label.sk-toggleable__label-arrow:before {color: black;}#sk-container-id-42 div.sk-toggleable__content {max-height: 0;max-width: 0;overflow: hidden;text-align: left;background-color: #f0f8ff;}#sk-container-id-42 div.sk-toggleable__content pre {margin: 0.2em;color: black;border-radius: 0.25em;background-color: #f0f8ff;}#sk-container-id-42 input.sk-toggleable__control:checked~div.sk-toggleable__content {max-height: 200px;max-width: 100%;overflow: auto;}#sk-container-id-42 input.sk-toggleable__control:checked~label.sk-toggleable__label-arrow:before {content: \"▾\";}#sk-container-id-42 div.sk-estimator input.sk-toggleable__control:checked~label.sk-toggleable__label {background-color: #d4ebff;}#sk-container-id-42 div.sk-label input.sk-toggleable__control:checked~label.sk-toggleable__label {background-color: #d4ebff;}#sk-container-id-42 input.sk-hidden--visually {border: 0;clip: rect(1px 1px 1px 1px);clip: rect(1px, 1px, 1px, 1px);height: 1px;margin: -1px;overflow: hidden;padding: 0;position: absolute;width: 1px;}#sk-container-id-42 div.sk-estimator {font-family: monospace;background-color: #f0f8ff;border: 1px dotted black;border-radius: 0.25em;box-sizing: border-box;margin-bottom: 0.5em;}#sk-container-id-42 div.sk-estimator:hover {background-color: #d4ebff;}#sk-container-id-42 div.sk-parallel-item::after {content: \"\";width: 100%;border-bottom: 1px solid gray;flex-grow: 1;}#sk-container-id-42 div.sk-label:hover label.sk-toggleable__label {background-color: #d4ebff;}#sk-container-id-42 div.sk-serial::before {content: \"\";position: absolute;border-left: 1px solid gray;box-sizing: border-box;top: 0;bottom: 0;left: 50%;z-index: 0;}#sk-container-id-42 div.sk-serial {display: flex;flex-direction: column;align-items: center;background-color: white;padding-right: 0.2em;padding-left: 0.2em;position: relative;}#sk-container-id-42 div.sk-item {position: relative;z-index: 1;}#sk-container-id-42 div.sk-parallel {display: flex;align-items: stretch;justify-content: center;background-color: white;position: relative;}#sk-container-id-42 div.sk-item::before, #sk-container-id-42 div.sk-parallel-item::before {content: \"\";position: absolute;border-left: 1px solid gray;box-sizing: border-box;top: 0;bottom: 0;left: 50%;z-index: -1;}#sk-container-id-42 div.sk-parallel-item {display: flex;flex-direction: column;z-index: 1;position: relative;background-color: white;}#sk-container-id-42 div.sk-parallel-item:first-child::after {align-self: flex-end;width: 50%;}#sk-container-id-42 div.sk-parallel-item:last-child::after {align-self: flex-start;width: 50%;}#sk-container-id-42 div.sk-parallel-item:only-child::after {width: 0;}#sk-container-id-42 div.sk-dashed-wrapped {border: 1px dashed gray;margin: 0 0.4em 0.5em 0.4em;box-sizing: border-box;padding-bottom: 0.4em;background-color: white;}#sk-container-id-42 div.sk-label label {font-family: monospace;font-weight: bold;display: inline-block;line-height: 1.2em;}#sk-container-id-42 div.sk-label-container {text-align: center;}#sk-container-id-42 div.sk-container {/* jupyter's `normalize.less` sets `[hidden] { display: none; }` but bootstrap.min.css set `[hidden] { display: none !important; }` so we also need the `!important` here to be able to override the default hidden behavior on the sphinx rendered scikit-learn.org. See: https://github.com/scikit-learn/scikit-learn/issues/21755 */display: inline-block !important;position: relative;}#sk-container-id-42 div.sk-text-repr-fallback {display: none;}</style><div id=\"sk-container-id-42\" class=\"sk-top-container\"><div class=\"sk-text-repr-fallback\"><pre>LinearRegression()</pre><b>In a Jupyter environment, please rerun this cell to show the HTML representation or trust the notebook. <br />On GitHub, the HTML representation is unable to render, please try loading this page with nbviewer.org.</b></div><div class=\"sk-container\" hidden><div class=\"sk-item\"><div class=\"sk-estimator sk-toggleable\"><input class=\"sk-toggleable__control sk-hidden--visually\" id=\"sk-estimator-id-42\" type=\"checkbox\" checked><label for=\"sk-estimator-id-42\" class=\"sk-toggleable__label sk-toggleable__label-arrow\">LinearRegression</label><div class=\"sk-toggleable__content\"><pre>LinearRegression()</pre></div></div></div></div></div>"
            ]
          },
          "metadata": {},
          "execution_count": 496
        }
      ],
      "source": [
        "#fit X,y in Linear Regression Model of sklearn\n",
        "model = linear_model.LinearRegression()\n",
        "model.fit(X, y)"
      ]
    },
    {
      "cell_type": "code",
      "execution_count": 497,
      "id": "d3e3934e",
      "metadata": {
        "id": "d3e3934e",
        "colab": {
          "base_uri": "https://localhost:8080/"
        },
        "outputId": "7d36ee72-683c-4eac-a4c0-78505354d0ef"
      },
      "outputs": [
        {
          "output_type": "stream",
          "name": "stdout",
          "text": [
            "Weights:  [ -10.0098663  -239.81564367  519.84592005  324.3846455  -792.17563855\n",
            "  476.73902101  101.04326794  177.06323767  751.27369956   67.62669218]\n",
            "Intercept:  152.13348416289597\n"
          ]
        }
      ],
      "source": [
        "#print coefficients and intercepts (in @d gradient descent in was only m and b but as it is n dimensional it will have n coefficients and 1 intercept)\n",
        "print(\"Weights: \", model.coef_)\n",
        "print(\"Intercept: \", model.intercept_)"
      ]
    },
    {
      "cell_type": "code",
      "execution_count": 498,
      "id": "d8b0bb30",
      "metadata": {
        "id": "d8b0bb30",
        "colab": {
          "base_uri": "https://localhost:8080/"
        },
        "outputId": "f1981a03-5ac1-4922-9bd7-2e96597efb19"
      },
      "outputs": [
        {
          "output_type": "execute_result",
          "data": {
            "text/plain": [
              "0.6060226374399982"
            ]
          },
          "metadata": {},
          "execution_count": 498
        }
      ],
      "source": [
        "#predict on X_test and calculate r2_score\n",
        "y_predicted = model.predict(X_test)\n",
        "r2_score(y_test, y_predicted)"
      ]
    },
    {
      "cell_type": "code",
      "execution_count": 499,
      "id": "b5f8dc27",
      "metadata": {
        "id": "b5f8dc27",
        "colab": {
          "base_uri": "https://localhost:8080/"
        },
        "outputId": "6a34ea97-4fc9-494a-c1a1-199e76a06cc0"
      },
      "outputs": [
        {
          "output_type": "stream",
          "name": "stdout",
          "text": [
            "Shape of X_train:  (353, 10)\n"
          ]
        }
      ],
      "source": [
        "#print X_train shape\n",
        "print(\"Shape of X_train: \", X_train.shape)"
      ]
    },
    {
      "cell_type": "code",
      "execution_count": 500,
      "id": "777721d5",
      "metadata": {
        "id": "777721d5"
      },
      "outputs": [],
      "source": [
        "#Write GDregressor class\n",
        "\n",
        "\n",
        "class GDRegressor:\n",
        "    \n",
        "    def __init__(self,learning_rate,epochs):\n",
        "        \n",
        "        self.coef_ = None\n",
        "        self.intercept_ = None\n",
        "        self.lr = learning_rate\n",
        "        self.epochs = epochs\n",
        "        \n",
        "    def fit(self,X_train,y_train):\n",
        "        # init your coefs\n",
        "        self.intercept_ = 0 #initialise the intercept\n",
        "        self.coef_ = np.zeros(X_train.shape[1]) #initialise the array of coefficients according to number of coefficients\n",
        "        \n",
        "        for i in range(self.epochs):\n",
        "            # update all the coef and the intercept\n",
        "            y_hat = np.dot(X_train, self.coef_) + self.intercept_ #apply prediction formula i.e. (y_hat = coefficient*X + intercept) in terms of matrices coefficient and X   \n",
        "            intercept_derivative = -2 * np.mean(y_train - y_hat) #find derivative matrix \n",
        "            self.intercept_ = self.intercept_ - (self.lr * intercept_derivative) #update intercept using above intercept_derivative\n",
        "            \n",
        "            coef_derivative = -2 * np.dot((y_train - y_hat),X_train)/X_train.shape[0] #derivative matrix for all coefficients in a single step\n",
        "            self.coef_ = self.coef_ - (self.lr * coef_derivative) #update intercept using coef_derivative\n",
        "        \n",
        "        #print the coefficients array and the intercept\n",
        "        print(self.intercept_, self.coef_)\n",
        "\n",
        "    def predict(self,X_test):\n",
        "        return np.dot(X_test, self.coef_) + self.intercept_ #new prediction in the form of (y = coefficients*X + intercept) using matrices"
      ]
    },
    {
      "cell_type": "code",
      "execution_count": 501,
      "id": "4ecc1e6f",
      "metadata": {
        "id": "4ecc1e6f"
      },
      "outputs": [],
      "source": [
        "#call GDRegressor by keeping epochs and learning rate according to you and keep changing it for better results\n",
        "gdr = GDRegressor(epochs=1000, learning_rate=0.5)"
      ]
    },
    {
      "cell_type": "code",
      "execution_count": 502,
      "id": "e7e6aec9",
      "metadata": {
        "id": "e7e6aec9",
        "colab": {
          "base_uri": "https://localhost:8080/"
        },
        "outputId": "7fdb9f14-7c80-4f96-ed0d-a9b362b76ec9"
      },
      "outputs": [
        {
          "output_type": "stream",
          "name": "stdout",
          "text": [
            "151.27732136773153 [   6.7535147  -173.24888263  448.64775164  306.55913949  -57.2226357\n",
            " -120.33798334 -205.22302898  113.98882205  428.63922881  144.81445604]\n"
          ]
        }
      ],
      "source": [
        "#fit X_train, y_train into GDRegressor object using function of the class\n",
        "gdr.fit(X_train, y_train)"
      ]
    },
    {
      "cell_type": "code",
      "execution_count": 503,
      "id": "8e5e4410",
      "metadata": {
        "id": "8e5e4410"
      },
      "outputs": [],
      "source": [
        "#predict on X_test using function of the class\n",
        "y_pred = gdr.predict(X_test)"
      ]
    },
    {
      "cell_type": "code",
      "execution_count": 504,
      "id": "84f66db7",
      "metadata": {
        "id": "84f66db7",
        "colab": {
          "base_uri": "https://localhost:8080/"
        },
        "outputId": "7d295a61-c8bc-40c3-9014-498958838e91"
      },
      "outputs": [
        {
          "output_type": "execute_result",
          "data": {
            "text/plain": [
              "0.5932887197559009"
            ]
          },
          "metadata": {},
          "execution_count": 504
        }
      ],
      "source": [
        "#calculate r2_score to verify\n",
        "r2_score(y_test,y_pred)"
      ]
    },
    {
      "cell_type": "code",
      "execution_count": 504,
      "id": "c8df72af",
      "metadata": {
        "id": "c8df72af"
      },
      "outputs": [],
      "source": []
    }
  ],
  "metadata": {
    "kernelspec": {
      "display_name": "Python 3",
      "language": "python",
      "name": "python3"
    },
    "language_info": {
      "codemirror_mode": {
        "name": "ipython",
        "version": 3
      },
      "file_extension": ".py",
      "mimetype": "text/x-python",
      "name": "python",
      "nbconvert_exporter": "python",
      "pygments_lexer": "ipython3",
      "version": "3.8.8"
    },
    "colab": {
      "provenance": []
    }
  },
  "nbformat": 4,
  "nbformat_minor": 5
}